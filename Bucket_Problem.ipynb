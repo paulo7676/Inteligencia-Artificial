{
 "cells": [
  {
   "cell_type": "code",
   "execution_count": 7,
   "metadata": {},
   "outputs": [],
   "source": [
    "Bucket = [0,0]\n",
    "Bucket_Final = 2\n",
    "L = []\n",
    "Balde_1 = 4\n",
    "Balde_2 = 3"
   ]
  },
  {
   "cell_type": "code",
   "execution_count": 8,
   "metadata": {},
   "outputs": [],
   "source": [
    "L.append(Bucket)\n",
    "\n",
    "if (2) in L:\n",
    "    print(\"a\")"
   ]
  },
  {
   "cell_type": "code",
   "execution_count": 9,
   "metadata": {},
   "outputs": [],
   "source": [
    "Bucket = [0,0]\n",
    "L = []\n",
    "L.append(Bucket)\n"
   ]
  },
  {
   "cell_type": "code",
   "execution_count": 13,
   "metadata": {},
   "outputs": [
    {
     "name": "stdout",
     "output_type": "stream",
     "text": [
      "L([0, 0]) = [[0, 0], [4, 0], [0, 3]]\n",
      "L([4, 0]) = [[0, 0], [4, 0], [0, 3], [4, 3], [1, 3]]\n",
      "L([0, 3]) = [[0, 0], [4, 0], [0, 3], [4, 3], [1, 3], [3, 0]]\n",
      "L([4, 3]) = [[0, 0], [4, 0], [0, 3], [4, 3], [1, 3], [3, 0]]\n",
      "L([1, 3]) = [[0, 0], [4, 0], [0, 3], [4, 3], [1, 3], [3, 0], [1, 0]]\n",
      "L([3, 0]) = [[0, 0], [4, 0], [0, 3], [4, 3], [1, 3], [3, 0], [1, 0], [3, 3]]\n",
      "L([1, 0]) = [[0, 0], [4, 0], [0, 3], [4, 3], [1, 3], [3, 0], [1, 0], [3, 3], [0, 1]]\n",
      "L([3, 3]) = [[0, 0], [4, 0], [0, 3], [4, 3], [1, 3], [3, 0], [1, 0], [3, 3], [0, 1], [4, 2]]\n"
     ]
    }
   ],
   "source": [
    "#esvaziar baldes\n",
    "#encher outro balde\n",
    "#encher baldes\n",
    "Bucket = [0,0]\n",
    "L = []\n",
    "L.append(Bucket)\n",
    "valor_balde = 0\n",
    "seq = 0\n",
    "#DPG\n",
    "for i in L:\n",
    "    aux_ = []\n",
    "\n",
    "    #encher o primeiro balde\n",
    "    if i[0] <= Balde_1:\n",
    "        aux = i.copy()\n",
    "        aux[0] = Balde_1\n",
    "\n",
    "        if aux not in L:\n",
    "            L.append(aux)\n",
    "            if Bucket_Final in aux:\n",
    "                print(\"L({}) = {}\".format(i,L))\n",
    "                break\n",
    "\n",
    "    #encher o segundo balde\n",
    "    if i[1] <= Balde_2:\n",
    "        aux = i.copy()\n",
    "        aux[1] = Balde_2\n",
    "\n",
    "        if aux not in L:\n",
    "            L.append(aux)\n",
    "            if Bucket_Final in aux:\n",
    "                print(\"L({}) = {}\".format(i,L))\n",
    "                break\n",
    "\n",
    "    #derramar o primeiro balde\n",
    "    if i[1] > 0:\n",
    "        #derramar fora\n",
    "        aux = i.copy()\n",
    "        aux[1] = 0\n",
    "\n",
    "        if aux not in L:\n",
    "            L.append(aux)\n",
    "            if 2 in aux:\n",
    "                print(\"L({}) = {}\".format(i,L))\n",
    "                break\n",
    "\n",
    "        aux = i.copy()\n",
    "        for j in range(i[1]):\n",
    "            if aux[0] < Balde_1:\n",
    "                aux[0] += 1\n",
    "                aux[1] -= 1\n",
    "\n",
    "        if aux not in L:\n",
    "            L.append(aux)\n",
    "            if Bucket_Final in aux:\n",
    "                print(\"L({}) = {}\".format(i,L))\n",
    "                break\n",
    "\n",
    "    #derramar o segundo balde fora\n",
    "    if i[0] > 0:\n",
    "        aux = i.copy()\n",
    "        aux[0] = 0\n",
    "\n",
    "        if aux not in L:\n",
    "            L.append(aux)\n",
    "            if Bucket_Final in aux:\n",
    "                print(\"L({}) = {}\".format(i,L))\n",
    "                break\n",
    "\n",
    "    #derramar o primeiro balde no segundo\n",
    "        aux = i.copy()\n",
    "        for j in range(i[0]):\n",
    "            if aux[1] < Balde_2:\n",
    "                aux[1] += 1\n",
    "                aux[0] -= 1\n",
    "\n",
    "        if aux not in L:\n",
    "            L.append(aux)\n",
    "            if Bucket_Final in aux:\n",
    "                print(\"L({}) = {}\".format(i,L))\n",
    "                break\n",
    "\n",
    "    print(\"L({}) = {}\".format(i,L))\n",
    "    "
   ]
  }
 ],
 "metadata": {
  "kernelspec": {
   "display_name": "Python 3.10.5 64-bit",
   "language": "python",
   "name": "python3"
  },
  "language_info": {
   "codemirror_mode": {
    "name": "ipython",
    "version": 3
   },
   "file_extension": ".py",
   "mimetype": "text/x-python",
   "name": "python",
   "nbconvert_exporter": "python",
   "pygments_lexer": "ipython3",
   "version": "3.10.5"
  },
  "orig_nbformat": 4,
  "vscode": {
   "interpreter": {
    "hash": "f42f955e7f8da3c548e302e1e5347a7e875359e0d4da102c4592ccaca30f562a"
   }
  }
 },
 "nbformat": 4,
 "nbformat_minor": 2
}
