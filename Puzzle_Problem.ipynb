{
 "cells": [
  {
   "cell_type": "code",
   "execution_count": 1136,
   "metadata": {},
   "outputs": [],
   "source": [
    "import numpy as np\n",
    "import random\n",
    "\n",
    "x = 3\n",
    "y = 3\n",
    "numero_pecas = x * y\n",
    "\n",
    "jogo = []\n",
    "Movimentos = []\n",
    "for i in range(numero_pecas):\n",
    "    jogo.append(i)"
   ]
  },
  {
   "cell_type": "code",
   "execution_count": 1137,
   "metadata": {},
   "outputs": [],
   "source": [
    "# criando tabuleiro\n",
    "\n",
    "random.shuffle(jogo)\n",
    "#Tabuleiro = np.reshape(jogo, (x, y)) \n",
    "#Tabuleiro\n",
    "\n",
    "Movimentos.append(jogo)\n"
   ]
  },
  {
   "cell_type": "code",
   "execution_count": 1138,
   "metadata": {},
   "outputs": [
    {
     "data": {
      "text/plain": [
       "[[2, 8, 0, 7, 3, 5, 6, 1, 4]]"
      ]
     },
     "execution_count": 1138,
     "metadata": {},
     "output_type": "execute_result"
    }
   ],
   "source": [
    "Movimentos"
   ]
  },
  {
   "cell_type": "code",
   "execution_count": 1139,
   "metadata": {},
   "outputs": [
    {
     "data": {
      "text/plain": [
       "array([[0, 1],\n",
       "       [2, 3],\n",
       "       [4, 5]])"
      ]
     },
     "execution_count": 1139,
     "metadata": {},
     "output_type": "execute_result"
    }
   ],
   "source": [
    "resultado = np.array([[0,1],[2,3],[4,5]])\n",
    "resultado"
   ]
  },
  {
   "cell_type": "code",
   "execution_count": 1140,
   "metadata": {},
   "outputs": [
    {
     "data": {
      "text/plain": [
       "[2, 8, 0, 7, 3, 5, 6, 1, 4]"
      ]
     },
     "execution_count": 1140,
     "metadata": {},
     "output_type": "execute_result"
    }
   ],
   "source": [
    "jogo"
   ]
  },
  {
   "cell_type": "code",
   "execution_count": 1141,
   "metadata": {},
   "outputs": [],
   "source": [
    "resultado = [1,2,3,4,0,5,6,7,8]\n",
    "valores = [[\"comeco\"]]\n",
    "checagem = 0\n",
    "for i in Movimentos:\n",
    "    Index_Atual = Movimentos.index(i)\n",
    "    local_0 = i.index(0)\n",
    "\n",
    "    # 0 sobe\n",
    "    if local_0 - y >= y:\n",
    "        c = i.copy()\n",
    "        c[local_0] = c[local_0-y]\n",
    "        c[local_0-y] = 0\n",
    "    \n",
    "        if c not in Movimentos:\n",
    "            Movimentos.append(c)\n",
    "            aux = valores[Index_Atual].copy()\n",
    "            aux.append(\"sobe\")\n",
    "            valores.append(aux)\n",
    "\n",
    "            if c == resultado:\n",
    "                break\n",
    "\n",
    "    # 0 desce\n",
    "    if local_0 + y < (x*y):\n",
    "        c = i.copy()\n",
    "        c[local_0] = c[local_0+y]\n",
    "        c[local_0+y] = 0\n",
    "\n",
    "        if c not in Movimentos:\n",
    "            Movimentos.append(c)\n",
    "            aux = valores[Index_Atual].copy()\n",
    "            aux.append(\"desce\")\n",
    "            valores.append(aux)\n",
    "\n",
    "            if c == resultado:\n",
    "                break\n",
    "\n",
    "    # 0 direita\n",
    "\n",
    "\n",
    "    if (local_0) % y != 0:\n",
    "        c = i.copy()\n",
    "        c[local_0] = c[local_0-1]\n",
    "        c[local_0-1] = 0\n",
    "\n",
    "        if c not in Movimentos:\n",
    "            Movimentos.append(c)\n",
    "            aux = valores[Index_Atual].copy()\n",
    "            aux.append(\"direita\")\n",
    "            valores.append(aux)\n",
    "            if c == resultado:\n",
    "                break\n",
    "        \n",
    "    # 0 esqueda\n",
    "    if (local_0+1) % x != 0:\n",
    "        c = i.copy()\n",
    "        c[local_0] = c[local_0+1]\n",
    "        c[local_0+1] = 0\n",
    "\n",
    "        if c not in Movimentos:\n",
    "            Movimentos.append(c)\n",
    "            aux = valores[Index_Atual].copy()\n",
    "            aux.append(\"esqueda\")\n",
    "            valores.append(aux)\n",
    "            if c == resultado:\n",
    "\n",
    "                break\n",
    "        \n",
    "        "
   ]
  },
  {
   "cell_type": "code",
   "execution_count": 1142,
   "metadata": {},
   "outputs": [
    {
     "data": {
      "text/plain": [
       "array([[2, 8, 0],\n",
       "       [7, 3, 5],\n",
       "       [6, 1, 4]])"
      ]
     },
     "execution_count": 1142,
     "metadata": {},
     "output_type": "execute_result"
    }
   ],
   "source": [
    "Tabuleiro = np.reshape(jogo, (x, y)) \n",
    "Tabuleiro"
   ]
  },
  {
   "cell_type": "code",
   "execution_count": 1143,
   "metadata": {},
   "outputs": [
    {
     "data": {
      "text/plain": [
       "array([[7, 2, 8],\n",
       "       [6, 1, 4],\n",
       "       [0, 3, 5]])"
      ]
     },
     "execution_count": 1143,
     "metadata": {},
     "output_type": "execute_result"
    }
   ],
   "source": [
    "Tabuleiro = np.reshape(Movimentos[-1], (x, y)) \n",
    "Tabuleiro"
   ]
  },
  {
   "cell_type": "code",
   "execution_count": 1144,
   "metadata": {},
   "outputs": [
    {
     "data": {
      "text/plain": [
       "False"
      ]
     },
     "execution_count": 1144,
     "metadata": {},
     "output_type": "execute_result"
    }
   ],
   "source": [
    "[7, 1, 6, 3, 4, 5, 8, 2, 0] in Movimentos"
   ]
  },
  {
   "cell_type": "code",
   "execution_count": 1145,
   "metadata": {},
   "outputs": [
    {
     "data": {
      "text/plain": [
       "1083"
      ]
     },
     "execution_count": 1145,
     "metadata": {},
     "output_type": "execute_result"
    }
   ],
   "source": [
    "len(valores)\n",
    "\n",
    "#realiza no maximo 360 movimentos ou 1083"
   ]
  }
 ],
 "metadata": {
  "kernelspec": {
   "display_name": "Python 3.10.5 64-bit",
   "language": "python",
   "name": "python3"
  },
  "language_info": {
   "codemirror_mode": {
    "name": "ipython",
    "version": 3
   },
   "file_extension": ".py",
   "mimetype": "text/x-python",
   "name": "python",
   "nbconvert_exporter": "python",
   "pygments_lexer": "ipython3",
   "version": "3.10.5"
  },
  "orig_nbformat": 4,
  "vscode": {
   "interpreter": {
    "hash": "f42f955e7f8da3c548e302e1e5347a7e875359e0d4da102c4592ccaca30f562a"
   }
  }
 },
 "nbformat": 4,
 "nbformat_minor": 2
}
